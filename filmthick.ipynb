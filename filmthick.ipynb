{
 "cells": [
  {
   "cell_type": "code",
   "execution_count": 1,
   "metadata": {},
   "outputs": [],
   "source": [
    "import numpy as np\n",
    "import matplotlib.pyplot as plt"
   ]
  },
  {
   "cell_type": "code",
   "execution_count": 2,
   "metadata": {},
   "outputs": [],
   "source": [
    "def filmthick(th_back, th_front, critical):\n",
    "    lam = 1.5418 * 10 **(-10)\n",
    "    rad = np.pi / 180\n",
    "    rth_front = th_front * rad / 2\n",
    "    rth_back = th_back * rad / 2\n",
    "    rcritical = critical * rad / 2\n",
    "    d = lam / (2 *(np.sqrt(rth_back**2 - rcritical**2) - np.sqrt(rth_front**2 - rcritical**2)))\n",
    "    print(\"the film thick is\", d)"
   ]
  },
  {
   "cell_type": "code",
   "execution_count": 3,
   "metadata": {},
   "outputs": [
    {
     "name": "stdout",
     "output_type": "stream",
     "text": [
      "the film thick is 4.395307497295665e-08\n"
     ]
    }
   ],
   "source": [
    "filmthick(1.205, 1.039, 0.63)"
   ]
  },
  {
   "cell_type": "code",
   "execution_count": 5,
   "metadata": {},
   "outputs": [
    {
     "name": "stdout",
     "output_type": "stream",
     "text": [
      "the film thick is 3.9001266131519724e-08\n"
     ]
    }
   ],
   "source": [
    "filmthick(1, 0.83, 0.6)"
   ]
  }
 ],
 "metadata": {
  "kernelspec": {
   "display_name": "Python 3.9.7 ('base')",
   "language": "python",
   "name": "python3"
  },
  "language_info": {
   "codemirror_mode": {
    "name": "ipython",
    "version": 3
   },
   "file_extension": ".py",
   "mimetype": "text/x-python",
   "name": "python",
   "nbconvert_exporter": "python",
   "pygments_lexer": "ipython3",
   "version": "3.9.7"
  },
  "orig_nbformat": 4,
  "vscode": {
   "interpreter": {
    "hash": "04af85effb080ac88e8d1ba3d0a46f34294f465b467ce0b46f0ddab0fabb4e91"
   }
  }
 },
 "nbformat": 4,
 "nbformat_minor": 2
}
